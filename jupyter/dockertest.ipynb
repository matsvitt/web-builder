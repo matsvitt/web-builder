{
 "cells": [
  {
   "cell_type": "code",
   "execution_count": 4,
   "metadata": {},
   "outputs": [],
   "source": [
    "import os\n",
    "import json\n",
    "\n"
   ]
  },
  {
   "cell_type": "code",
   "execution_count": 10,
   "metadata": {},
   "outputs": [
    {
     "name": "stdout",
     "output_type": "stream",
     "text": [
      "{'image': 'webbuilder', 'ports': {'5000/tcp': 5000}, 'detach': 'true', 'network': 'pickaxe', 'name': 'build'}\n"
     ]
    }
   ],
   "source": [
    "if os.path.exists(\"./docker_options.json\"):\n",
    "    with open(\"./docker_options.json\") as f:\n",
    "        data = json.load(f)\n",
    "        \n",
    "        if data.get(\"detach\",\"true\") == \"true\":\n",
    "            data[\"detached\"]=True\n",
    "        else:\n",
    "            data[\"detached\"]=False\n",
    "        \n",
    "        print(data)"
   ]
  }
 ],
 "metadata": {
  "kernelspec": {
   "display_name": ".venv",
   "language": "python",
   "name": "python3"
  },
  "language_info": {
   "codemirror_mode": {
    "name": "ipython",
    "version": 3
   },
   "file_extension": ".py",
   "mimetype": "text/x-python",
   "name": "python",
   "nbconvert_exporter": "python",
   "pygments_lexer": "ipython3",
   "version": "3.11.3"
  }
 },
 "nbformat": 4,
 "nbformat_minor": 2
}
